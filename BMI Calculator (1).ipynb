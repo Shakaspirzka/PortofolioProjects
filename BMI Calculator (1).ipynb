{
 "cells": [
  {
   "cell_type": "markdown",
   "id": "ff69e6d1-6a15-4e65-8679-8ced20158b77",
   "metadata": {},
   "source": [
    "# BMI CALCULATOR"
   ]
  },
  {
   "cell_type": "code",
   "execution_count": 55,
   "id": "2f492a92-233c-40bc-87d9-ef3a5849fd93",
   "metadata": {},
   "outputs": [
    {
     "name": "stdin",
     "output_type": "stream",
     "text": [
      "Enter your name you stud: Dan\n",
      "Enter your weight in  pounds : 154\n",
      "Enter your height in inches : 72\n"
     ]
    },
    {
     "name": "stdout",
     "output_type": "stream",
     "text": [
      "20.883873456790123\n"
     ]
    }
   ],
   "source": [
    "name = input(\"Enter your name you stud:\")\n",
    "weight = int(input (\"Enter your weight in  pounds :\"))\n",
    "height = int(input(\"Enter your height in inches :\"))\n",
    "BMI = (weight * 703) / (height * height)\n",
    "print (BMI)\n"
   ]
  },
  {
   "cell_type": "code",
   "execution_count": null,
   "id": "60640f70-0d35-4783-b42f-72986f9b5141",
   "metadata": {},
   "outputs": [],
   "source": []
  },
  {
   "cell_type": "code",
   "execution_count": null,
   "id": "dbccaff6-a305-4612-b98b-3c959463afd5",
   "metadata": {},
   "outputs": [],
   "source": []
  },
  {
   "cell_type": "code",
   "execution_count": 8,
   "id": "904f1194-0006-4116-a69c-1ac1074890c0",
   "metadata": {},
   "outputs": [
    {
     "name": "stdout",
     "output_type": "stream",
     "text": [
      "170\n"
     ]
    }
   ],
   "source": [
    "print(weight)"
   ]
  },
  {
   "cell_type": "code",
   "execution_count": null,
   "id": "ae9bc41d-3d61-447b-be30-850db3071805",
   "metadata": {},
   "outputs": [],
   "source": []
  },
  {
   "cell_type": "code",
   "execution_count": null,
   "id": "93084348-6675-4b77-a1f6-a5a339cdbd0c",
   "metadata": {},
   "outputs": [],
   "source": []
  },
  {
   "cell_type": "code",
   "execution_count": null,
   "id": "a89337df-abc9-4dee-9e1d-b96cdf49eeca",
   "metadata": {},
   "outputs": [],
   "source": []
  },
  {
   "cell_type": "code",
   "execution_count": null,
   "id": "057cc887-d7bb-415b-8062-049e9770a86b",
   "metadata": {},
   "outputs": [],
   "source": [
    "#BMI = (weight in pounds x 703) / (height in inches x height in inches)\n"
   ]
  },
  {
   "cell_type": "code",
   "execution_count": null,
   "id": "46908af7-170f-43a1-aa54-12e0d5b64fa2",
   "metadata": {},
   "outputs": [],
   "source": [
    "Under 18.5 -> Underweight -> Minimal\n",
    "18.5 - 24.9 - > Normal Weight -> Minimal\n",
    "25-29.9 -> Overweight -> Increased\n",
    "30-34.9 -> Obese -> High\n",
    "35-39.9 -> Severe Obese -> Very High\n",
    "40 and over -> Morbidly Obese -> Extremely High"
   ]
  },
  {
   "cell_type": "code",
   "execution_count": 57,
   "id": "4aa3563b-9dd7-42dc-9752-46c86d3f65c7",
   "metadata": {},
   "outputs": [
    {
     "name": "stdout",
     "output_type": "stream",
     "text": [
      "Dan, you are normal weight.\n"
     ]
    }
   ],
   "source": [
    "if BMI>0:\n",
    "    if(BMI<18.5):\n",
    "        print(name +\", you are underweight.\")\n",
    "    elif(BMI<=24.9):\n",
    "        print(name+\", you are normal weight.\")\n",
    "    elif(BMI<=29.9):\n",
    "        print(name+\", you are overweight.\")\n",
    "    elif(BMI<=34.9):\n",
    "        print(name+\", you are obese.\")\n",
    "    elif(BMI<=39.9):\n",
    "        print(name+\" you are severe obese.\")\n",
    "    else:\n",
    "        print(name+\" you are morbidly obese\")\n",
    "else:\n",
    "    print(\"Enter valid input\")"
   ]
  },
  {
   "cell_type": "code",
   "execution_count": null,
   "id": "2ff5bd91-3b8c-4059-b703-43695e0b1365",
   "metadata": {},
   "outputs": [],
   "source": [
    " "
   ]
  }
 ],
 "metadata": {
  "kernelspec": {
   "display_name": "Python 3 (ipykernel)",
   "language": "python",
   "name": "python3"
  },
  "language_info": {
   "codemirror_mode": {
    "name": "ipython",
    "version": 3
   },
   "file_extension": ".py",
   "mimetype": "text/x-python",
   "name": "python",
   "nbconvert_exporter": "python",
   "pygments_lexer": "ipython3",
   "version": "3.12.4"
  }
 },
 "nbformat": 4,
 "nbformat_minor": 5
}
