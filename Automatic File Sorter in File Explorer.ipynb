{
 "cells": [
  {
   "cell_type": "markdown",
   "id": "39ee5aab-f8dd-4c6a-a1b8-145b9dc5233c",
   "metadata": {},
   "source": [
    "# Automatic File Sorter in File Explorer"
   ]
  },
  {
   "cell_type": "code",
   "execution_count": 2,
   "id": "ec891598-4e34-4a71-bc5a-7b1fd90e6c84",
   "metadata": {},
   "outputs": [],
   "source": [
    "import os, shutil"
   ]
  },
  {
   "cell_type": "code",
   "execution_count": 34,
   "id": "de7883e9-550b-4023-9fca-d65f21fb0ece",
   "metadata": {},
   "outputs": [],
   "source": [
    "path = r\"C:/Users/D/Desktop/Test Folder/\""
   ]
  },
  {
   "cell_type": "code",
   "execution_count": 46,
   "id": "67a267e9-bf7b-4a16-b717-87cf507867bd",
   "metadata": {},
   "outputs": [],
   "source": [
    "file_name = os.listdir(path)"
   ]
  },
  {
   "cell_type": "code",
   "execution_count": 12,
   "id": "0c329607-dacd-485d-9c4e-88725e4a529d",
   "metadata": {},
   "outputs": [
    {
     "data": {
      "text/plain": [
       "False"
      ]
     },
     "execution_count": 12,
     "metadata": {},
     "output_type": "execute_result"
    }
   ],
   "source": [
    "  os.path.exists(path + 'png files')"
   ]
  },
  {
   "cell_type": "code",
   "execution_count": 42,
   "id": "f0a9accb-3ca2-4a05-b0c9-d73a25b3e2f0",
   "metadata": {},
   "outputs": [],
   "source": [
    "folder_names = ['png files', 'text files','jpg files', 'xlsx files']\n",
    "for loop in range(0,4):\n",
    "    if not os.path.exists(path + folder_names[loop]):\n",
    "            print(path + folder_names[loop])\n",
    "            os.makedirs(path + folder_names[loop])"
   ]
  },
  {
   "cell_type": "code",
   "execution_count": 60,
   "id": "4ab7d03b-9c5e-47e4-aa7d-567502536d69",
   "metadata": {},
   "outputs": [],
   "source": [
    "for file in file_name: \n",
    "    if \".txt\" in file and not os.path.exists(path + \"text files/\" + file):\n",
    "        shutil.move(path +file, path + \"text files/\" + file) \n",
    "    elif \".jpg\" in file and not os.path.exists(path + \"jpg files/\" + file):\n",
    "        shutil.move(path +file, path + \"jpg files/\" + file) \n",
    "    elif \".xlsx\" in file and not os.path.exists(path + \"xlsx files/\" + file):\n",
    "        shutil.move(path +file, path + \"xlsx files/\" + file) \n",
    "    elif \".png\" in file and not os.path.exists(path + \"png files/\" + file):\n",
    "        shutil.move(path +file, path + \"png files/\" + file)\n",
    "    "
   ]
  },
  {
   "cell_type": "code",
   "execution_count": null,
   "id": "efe31b53-63cd-4674-af3c-b800912065b2",
   "metadata": {},
   "outputs": [],
   "source": []
  }
 ],
 "metadata": {
  "kernelspec": {
   "display_name": "Python 3 (ipykernel)",
   "language": "python",
   "name": "python3"
  },
  "language_info": {
   "codemirror_mode": {
    "name": "ipython",
    "version": 3
   },
   "file_extension": ".py",
   "mimetype": "text/x-python",
   "name": "python",
   "nbconvert_exporter": "python",
   "pygments_lexer": "ipython3",
   "version": "3.12.4"
  }
 },
 "nbformat": 4,
 "nbformat_minor": 5
}
